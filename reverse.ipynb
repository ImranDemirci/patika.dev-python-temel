{
  "nbformat": 4,
  "nbformat_minor": 0,
  "metadata": {
    "colab": {
      "name": "reverse",
      "provenance": [],
      "authorship_tag": "ABX9TyNme1UMQy2BFsOhpOSoLAXU",
      "include_colab_link": true
    },
    "kernelspec": {
      "name": "python3",
      "display_name": "Python 3"
    },
    "language_info": {
      "name": "python"
    }
  },
  "cells": [
    {
      "cell_type": "markdown",
      "metadata": {
        "id": "view-in-github",
        "colab_type": "text"
      },
      "source": [
        "<a href=\"https://colab.research.google.com/github/ImranDemirci/patika.dev-python-temel/blob/main/reverse.ipynb\" target=\"_parent\"><img src=\"https://colab.research.google.com/assets/colab-badge.svg\" alt=\"Open In Colab\"/></a>"
      ]
    },
    {
      "cell_type": "code",
      "execution_count": 1,
      "metadata": {
        "id": "75tSogAysmPi"
      },
      "outputs": [],
      "source": [
        "lst= [[1, 2], [3, 4], [5, 6, 7]]\n",
        "liste= []"
      ]
    },
    {
      "cell_type": "code",
      "source": [
        "def reverse(x):\n",
        "  for i in x:\n",
        "    if isinstance(i,list):\n",
        "      reverse(i)\n",
        "    else:\n",
        "      liste.append(i)\n",
        "  return liste[::-1]     "
      ],
      "metadata": {
        "id": "XvyzgcVPtGWw"
      },
      "execution_count": 6,
      "outputs": []
    },
    {
      "cell_type": "code",
      "source": [
        "reverse(lst)"
      ],
      "metadata": {
        "colab": {
          "base_uri": "https://localhost:8080/"
        },
        "id": "yaiO_ZXIttK7",
        "outputId": "69503cf9-0baa-4e5a-aa7d-5357cc840776"
      },
      "execution_count": 7,
      "outputs": [
        {
          "output_type": "execute_result",
          "data": {
            "text/plain": [
              "[7, 6, 5, 4, 3, 2, 1]"
            ]
          },
          "metadata": {},
          "execution_count": 7
        }
      ]
    }
  ]
}