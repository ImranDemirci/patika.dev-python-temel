{
  "nbformat": 4,
  "nbformat_minor": 0,
  "metadata": {
    "colab": {
      "name": "flatten",
      "provenance": [],
      "authorship_tag": "ABX9TyNVAlLnceLsjR/4j20Lnsh8",
      "include_colab_link": true
    },
    "kernelspec": {
      "name": "python3",
      "display_name": "Python 3"
    },
    "language_info": {
      "name": "python"
    }
  },
  "cells": [
    {
      "cell_type": "markdown",
      "metadata": {
        "id": "view-in-github",
        "colab_type": "text"
      },
      "source": [
        "<a href=\"https://colab.research.google.com/github/ImranDemirci/patika.dev-python-temel/blob/main/flatten.ipynb\" target=\"_parent\"><img src=\"https://colab.research.google.com/assets/colab-badge.svg\" alt=\"Open In Colab\"/></a>"
      ]
    },
    {
      "cell_type": "code",
      "execution_count": 6,
      "metadata": {
        "id": "emyIsG1IrebU"
      },
      "outputs": [],
      "source": [
        "lst= [[1,'a',['cat'],2],[[[3]],'dog'],4,5]\n",
        "liste=[]"
      ]
    },
    {
      "cell_type": "code",
      "source": [
        "def flatten(x):\n",
        "  for i in x:\n",
        "    if isinstance(i,list):\n",
        "      flatten(i)\n",
        "    else:\n",
        "      liste.append(i) \n",
        "  return liste    "
      ],
      "metadata": {
        "id": "Q5sc4C0arkD9"
      },
      "execution_count": 7,
      "outputs": []
    },
    {
      "cell_type": "code",
      "source": [
        "flatten(lst)"
      ],
      "metadata": {
        "colab": {
          "base_uri": "https://localhost:8080/"
        },
        "id": "CV-NR7pqrn4Q",
        "outputId": "1e662db8-3e31-4ded-e527-9fc0e2ee483f"
      },
      "execution_count": 8,
      "outputs": [
        {
          "output_type": "execute_result",
          "data": {
            "text/plain": [
              "[1, 'a', 'cat', 2, 3, 'dog', 4, 5]"
            ]
          },
          "metadata": {},
          "execution_count": 8
        }
      ]
    }
  ]
}